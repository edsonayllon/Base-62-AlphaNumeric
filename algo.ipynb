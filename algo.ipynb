{
 "cells": [
  {
   "cell_type": "code",
   "execution_count": 27,
   "metadata": {},
   "outputs": [],
   "source": [
    "import math \n",
    "from functools import reduce"
   ]
  },
  {
   "cell_type": "code",
   "execution_count": 131,
   "metadata": {},
   "outputs": [],
   "source": [
    "class Base62:\n",
    "    alphanum = [\n",
    "        \"0\",\"1\",\"2\",\"3\",\"4\",\"5\",\"6\",\"7\",\"8\",\"9\",\n",
    "        \"A\",\"B\",\"C\",\"D\",\"E\",\"F\",\"G\",\"H\",\"I\",\"J\",\"K\",\"L\",\"M\",\"N\",\"O\",\"P\",\"Q\",\"R\",\"S\",\"T\",\"U\",\"V\",\"W\",\"X\",\"Y\",\"Z\",\n",
    "        \"a\",\"b\",\"c\",\"d\",\"e\",\"f\",\"g\",\"h\",\"i\",\"j\",\"k\",\"l\",\"m\",\"n\",\"o\",\"p\",\"q\",\"r\",\"s\",\"t\",\"u\",\"v\",\"w\",\"x\",\"y\",\"z\"\n",
    "    ]\n",
    "    \n",
    "    def convertFrom10(base10):\n",
    "        if (base10 == 0): return '0'\n",
    "        base62digits = []\n",
    "        totalDigits = int(math.log(base10)/math.log(62))+1\n",
    "        num = base10\n",
    "        for x in range(totalDigits):\n",
    "            base62digits.append(Base62.alphanum[num%62])\n",
    "            num, remainder = divmod(num, 62)\n",
    "        base62digits.reverse()\n",
    "        return ''.join(base62digits)\n",
    "    \n",
    "    def convertFrom62(base62):\n",
    "        base62vals = list(base62)\n",
    "        base62vals.reverse()\n",
    "        return reduce(lambda acc, cur : acc + Base62.alphanum.index(cur)*62**base62vals.index(cur) \n",
    "            if isinstance(acc, int) else Base62.alphanum.index(cur)*62**base62vals.index(cur), base62vals) \n"
   ]
  },
  {
   "cell_type": "code",
   "execution_count": 138,
   "metadata": {},
   "outputs": [
    {
     "data": {
      "text/plain": [
       "'Ft0AWAkDpxLf'"
      ]
     },
     "execution_count": 138,
     "metadata": {},
     "output_type": "execute_result"
    }
   ],
   "source": [
    "Base62.convertFrom10(826712172083387309603)"
   ]
  },
  {
   "cell_type": "code",
   "execution_count": 140,
   "metadata": {},
   "outputs": [
    {
     "data": {
      "text/plain": [
       "826709989250333816442"
      ]
     },
     "execution_count": 140,
     "metadata": {},
     "output_type": "execute_result"
    }
   ],
   "source": [
    "Base62.convertFrom62('Ft0AWAkDpxLf')"
   ]
  }
 ],
 "metadata": {
  "kernelspec": {
   "display_name": "Python 3",
   "language": "python",
   "name": "python3"
  },
  "language_info": {
   "codemirror_mode": {
    "name": "ipython",
    "version": 3
   },
   "file_extension": ".py",
   "mimetype": "text/x-python",
   "name": "python",
   "nbconvert_exporter": "python",
   "pygments_lexer": "ipython3",
   "version": "3.7.4"
  }
 },
 "nbformat": 4,
 "nbformat_minor": 2
}
