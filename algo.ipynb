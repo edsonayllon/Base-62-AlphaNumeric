{
 "cells": [
  {
   "cell_type": "code",
   "execution_count": 148,
   "metadata": {},
   "outputs": [],
   "source": [
    "import math \n",
    "from functools import reduce"
   ]
  },
  {
   "cell_type": "code",
   "execution_count": 222,
   "metadata": {},
   "outputs": [],
   "source": [
    "class Base62:\n",
    "    alphanum = [\n",
    "        \"0\",\"1\",\"2\",\"3\",\"4\",\"5\",\"6\",\"7\",\"8\",\"9\",\n",
    "        \"A\",\"B\",\"C\",\"D\",\"E\",\"F\",\"G\",\"H\",\"I\",\"J\",\"K\",\"L\",\"M\",\"N\",\"O\",\"P\",\"Q\",\"R\",\"S\",\"T\",\"U\",\"V\",\"W\",\"X\",\"Y\",\"Z\",\n",
    "        \"a\",\"b\",\"c\",\"d\",\"e\",\"f\",\"g\",\"h\",\"i\",\"j\",\"k\",\"l\",\"m\",\"n\",\"o\",\"p\",\"q\",\"r\",\"s\",\"t\",\"u\",\"v\",\"w\",\"x\",\"y\",\"z\"\n",
    "    ]\n",
    "    \n",
    "    def convertFrom10(base10):\n",
    "        if (base10 == 0): return '0'\n",
    "        base62digits = []\n",
    "        totalDigits = int(math.log(base10)/math.log(62))+1\n",
    "        num = base10\n",
    "        for x in range(totalDigits):\n",
    "            base62digits.append(Base62.alphanum[num%62])\n",
    "            num, remainder = divmod(num, 62)\n",
    "        base62digits.reverse()\n",
    "        return ''.join(base62digits)\n",
    "    \n",
    "    def convertFrom62(base62):\n",
    "        base62vals = list(base62)\n",
    "        base62vals.reverse()\n",
    "        base10 = 0\n",
    "        for i in range(len(base62vals)):\n",
    "            base10 += Base62.alphanum.index(base62vals[i])*62**i\n",
    "        return base10\n",
    "    \n",
    "    def convertFrom62Wrapper(base62):\n",
    "        return list(map(Base62.convertFrom62, base62.split(\" \")))"
   ]
  },
  {
   "cell_type": "code",
   "execution_count": 223,
   "metadata": {},
   "outputs": [
    {
     "data": {
      "text/plain": [
       "'Ft0AWAkDpxLf'"
      ]
     },
     "execution_count": 223,
     "metadata": {},
     "output_type": "execute_result"
    }
   ],
   "source": [
    "Base62.convertFrom10(826712172083387309603)"
   ]
  },
  {
   "cell_type": "code",
   "execution_count": 224,
   "metadata": {},
   "outputs": [
    {
     "data": {
      "text/plain": [
       "826712172083387309603"
      ]
     },
     "execution_count": 224,
     "metadata": {},
     "output_type": "execute_result"
    }
   ],
   "source": [
    "Base62.convertFrom62('Ft0AWAkDpxLf')"
   ]
  },
  {
   "cell_type": "code",
   "execution_count": 225,
   "metadata": {},
   "outputs": [
    {
     "data": {
      "text/plain": [
       "[10,\n",
       " 47563037366,\n",
       " 12311021,\n",
       " 3460,\n",
       " 12311021,\n",
       " 3275054929373,\n",
       " 3141,\n",
       " 551888520988791794,\n",
       " 9198239,\n",
       " 869162105,\n",
       " 543333338,\n",
       " 46542055694,\n",
       " 181702840356620,\n",
       " 3460,\n",
       " 2334,\n",
       " 13026565,\n",
       " 139891335372202,\n",
       " 9978328,\n",
       " 195278,\n",
       " 762380146,\n",
       " 3460,\n",
       " 2090451082457,\n",
       " 3335546650791,\n",
       " 214126,\n",
       " 2153704752652,\n",
       " 3141,\n",
       " 632694728,\n",
       " 3164201949015,\n",
       " 36,\n",
       " 9109712297247799,\n",
       " 37604475943917236325,\n",
       " 779344213443,\n",
       " 740760362976004650,\n",
       " 2946119627970,\n",
       " 12296453,\n",
       " 3141,\n",
       " 214126,\n",
       " 193051099512677,\n",
       " 145755,\n",
       " 214126,\n",
       " 11580905,\n",
       " 132617241359312,\n",
       " 141710,\n",
       " 11397019,\n",
       " 2769,\n",
       " 36,\n",
       " 3173408555683,\n",
       " 762380146,\n",
       " 2782,\n",
       " 811202281,\n",
       " 188966060627147,\n",
       " 3460,\n",
       " 2945971849869,\n",
       " 36481488798,\n",
       " 193101379570768,\n",
       " 2024,\n",
       " 2946118221996,\n",
       " 36,\n",
       " 193051099512677,\n",
       " 3460,\n",
       " 214126,\n",
       " 36481488798,\n",
       " 193101379570768,\n",
       " 2946114873012,\n",
       " 840516744,\n",
       " 36,\n",
       " 12311021,\n",
       " 3460,\n",
       " 12311021,\n",
       " 2820683573932,\n",
       " 114182,\n",
       " 2820683573932,\n",
       " 754318084493391072,\n",
       " 2906991930030534987564,\n",
       " 2354,\n",
       " 2476199254528,\n",
       " 13275860,\n",
       " 10678248,\n",
       " 2281,\n",
       " 2885534982696,\n",
       " 571890033,\n",
       " 3141,\n",
       " 10389879,\n",
       " 555514335,\n",
       " 766419861,\n",
       " 3141,\n",
       " 14018556,\n",
       " 2375411058312,\n",
       " 36,\n",
       " 49155345525,\n",
       " 13275619,\n",
       " 35356865295,\n",
       " 2334,\n",
       " 2198346454103,\n",
       " 3335546650791,\n",
       " 3047646164952,\n",
       " 214126,\n",
       " 766419861,\n",
       " 3141,\n",
       " 14018556]"
      ]
     },
     "execution_count": 225,
     "metadata": {},
     "output_type": "execute_result"
    }
   ],
   "source": [
    "Base62.convertFrom62Wrapper(\"A purely peer to peer version of electronic cash would allow online payments to be sent directly from one party to another without the burdens of going through a financial institution Digital signatures provide part of the solution but the main benefits are lost if a trusted party is still required to prevent double spending We propose a solution to the double spending problem using a peer to peer network The network timestamps transactions by hashing them into an ongoing chain of hash based proof of work forming a record that cannot be changed without redoing the proof of work\")\n"
   ]
  }
 ],
 "metadata": {
  "kernelspec": {
   "display_name": "Python 3",
   "language": "python",
   "name": "python3"
  },
  "language_info": {
   "codemirror_mode": {
    "name": "ipython",
    "version": 3
   },
   "file_extension": ".py",
   "mimetype": "text/x-python",
   "name": "python",
   "nbconvert_exporter": "python",
   "pygments_lexer": "ipython3",
   "version": "3.7.4"
  }
 },
 "nbformat": 4,
 "nbformat_minor": 2
}
